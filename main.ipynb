{
 "cells": [
  {
   "cell_type": "markdown",
   "metadata": {},
   "source": [
    "#Sample Examples"
   ]
  },
  {
   "cell_type": "code",
   "execution_count": 6,
   "metadata": {},
   "outputs": [],
   "source": [
    "import pickle\n",
    "from get_indices import find_substring_indices\n",
    "\n",
    "data = pickle.load(open('/Users/sudhanshurai/Desktop/personal project/claim_finder/_results_with_records_gpt4.pkl', 'rb'))\n",
    "record= data[4]\n"
   ]
  },
  {
   "cell_type": "code",
   "execution_count": 7,
   "metadata": {},
   "outputs": [
    {
     "name": "stdout",
     "output_type": "stream",
     "text": [
      "(12, 159)\n"
     ]
    }
   ],
   "source": [
    "content = record.content\n",
    "claim = record.instances[0]['claim']\n",
    "instances = record.instances[0]['instances']['instances']\n",
    "print(find_substring_indices(content.lower(), instances[0].lower()))"
   ]
  },
  {
   "cell_type": "markdown",
   "metadata": {},
   "source": [
    "Load the Dataframe"
   ]
  },
  {
   "cell_type": "code",
   "execution_count": 1,
   "metadata": {},
   "outputs": [],
   "source": [
    "import pandas as pd\n",
    "\n",
    "df = pd.read_csv('/Users/sudhanshurai/Desktop/personal project/Enterpret (1).csv')"
   ]
  },
  {
   "cell_type": "markdown",
   "metadata": {},
   "source": [
    "The important columns are these I have selected "
   ]
  },
  {
   "cell_type": "code",
   "execution_count": 2,
   "metadata": {},
   "outputs": [],
   "source": [
    "columns  = ['Content', 'Summary', 'Reasons']\n",
    "filter_condition = ~df[columns[0]].isna() & ~df[columns[1]].isna() & ~df[columns[2]].isna()\n",
    "filtered_df = df[filter_condition]\n",
    "filtered_df.to_csv('cleaned_enterpret.csv')"
   ]
  },
  {
   "cell_type": "markdown",
   "metadata": {},
   "source": [
    "Convert the the dataframe to the record class"
   ]
  },
  {
   "cell_type": "code",
   "execution_count": 3,
   "metadata": {},
   "outputs": [],
   "source": [
    "from preprocess import Record, create_records\n",
    "records = create_records(filtered_df)\n",
    "pickle.dump(records, open('_records.pkl', 'wb'))\n"
   ]
  },
  {
   "cell_type": "markdown",
   "metadata": {},
   "source": [
    "Get response from the GPT3.5 turbo model"
   ]
  },
  {
   "cell_type": "code",
   "execution_count": 4,
   "metadata": {},
   "outputs": [],
   "source": [
    "from get_results import get_result_gpt3, get_result_gpt4, get_result_nshot\n",
    "for record in records:\n",
    "\trecord.instances = get_result_gpt3(record)\n",
    "pickle.dump(records, open('_results_with_records_gp3.pkl', 'wb'))\n"
   ]
  },
  {
   "cell_type": "markdown",
   "metadata": {},
   "source": [
    "Select some handful examples and pass them to GPT4 model to do Few shot prompting"
   ]
  },
  {
   "cell_type": "code",
   "execution_count": null,
   "metadata": {},
   "outputs": [],
   "source": [
    "res10 = get_result_gpt4(records[10])\n",
    "res43 = get_result_gpt4(records[43])\n",
    "res38 = get_result_gpt4(records[38])\n",
    "\n",
    "res_vals = [res10, res43, res38]\n",
    "idxs=[10, 43, 38]\n",
    "examples='''Some Examples are these:- \n",
    "'''\n",
    "for pos in range(3):\n",
    "\tUSER_PROMPT ='''\n",
    "\tClaim:\n",
    "\t{claim}\n",
    "\tConversation:\n",
    "\t{content}\n",
    "\tResponse (JSON Array):\n",
    "\t'''\n",
    "\trecord = records[idxs[pos]]\n",
    "\tres = res_vals[pos]\n",
    "\teg = USER_PROMPT.format_map({'claim': res_vals[pos][0]['claim'], 'content':record.content})+'\\n'+res_vals[pos][0]['raw_instances']\n",
    "\texamples+=eg\n",
    "\n",
    "pickle.dump(examples, open('_examples_via_gpt4.pkl', 'wb'))"
   ]
  },
  {
   "cell_type": "markdown",
   "metadata": {},
   "source": [
    "Use these prompts as examples for GPT3.5 model"
   ]
  },
  {
   "cell_type": "code",
   "execution_count": null,
   "metadata": {},
   "outputs": [],
   "source": [
    "\n",
    "from copy import deepcopy\n",
    "extra_records = deepcopy(records)\n",
    "for record in extra_records:\n",
    "\trecord.instances = get_result_nshot(record, examples)\n",
    "pickle.dump(extra_records, open('_results_with_records_gpt4.pkl', 'wb'))\n"
   ]
  },
  {
   "cell_type": "code",
   "execution_count": 18,
   "metadata": {},
   "outputs": [],
   "source": [
    "gpt3_results = pickle.load(open('/Users/sudhanshurai/Desktop/personal project/claim_finder/_results_with_records_gp3.pkl', 'rb'))\n",
    "gpt4_results = pickle.load(open('/Users/sudhanshurai/Desktop/personal project/claim_finder/_results_with_records_gpt4.pkl', 'rb'))"
   ]
  },
  {
   "cell_type": "markdown",
   "metadata": {},
   "source": [
    "Find the indices from the record"
   ]
  },
  {
   "cell_type": "code",
   "execution_count": null,
   "metadata": {},
   "outputs": [],
   "source": [
    "from get_indices import find_substring_indices\n",
    "\n",
    "for record in gpt3_results:\n",
    "\tcontent = record.content\n",
    "\tclaim = record.instances[0]['claim']\n",
    "\tinstances = record.instances[0]['instances']['instances']\n",
    "\tprint(find_substring_indices(content.lower(), instances[0].lower()))\n",
    "\n"
   ]
  },
  {
   "cell_type": "markdown",
   "metadata": {},
   "source": [
    "Use LLM to evaluate the results"
   ]
  },
  {
   "cell_type": "code",
   "execution_count": 28,
   "metadata": {},
   "outputs": [],
   "source": [
    "from evaluate import *\n",
    "gpt3_evaluation_res  = evaluate_all_the_records(gpt3_results)"
   ]
  },
  {
   "cell_type": "code",
   "execution_count": 29,
   "metadata": {},
   "outputs": [],
   "source": [
    "avg_gpt3=0\n",
    "for row in gpt3_evaluation_res:\n",
    "    avg_gpt3+=(row['score'])\n",
    "print(avg_gpt3/len(gpt3_evaluation_res)) "
   ]
  }
 ],
 "metadata": {
  "kernelspec": {
   "display_name": "myenv",
   "language": "python",
   "name": "python3"
  },
  "language_info": {
   "codemirror_mode": {
    "name": "ipython",
    "version": 3
   },
   "file_extension": ".py",
   "mimetype": "text/x-python",
   "name": "python",
   "nbconvert_exporter": "python",
   "pygments_lexer": "ipython3",
   "version": "3.9.10"
  }
 },
 "nbformat": 4,
 "nbformat_minor": 2
}
